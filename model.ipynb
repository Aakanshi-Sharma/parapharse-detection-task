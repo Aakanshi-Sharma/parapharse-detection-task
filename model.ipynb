{
 "cells": [
  {
   "cell_type": "code",
   "execution_count": 1,
   "id": "3cf5d7bd",
   "metadata": {},
   "outputs": [],
   "source": [
    "import numpy as np\n",
    "import pandas as pd\n",
    "import matplotlib.pyplot as plt"
   ]
  },
  {
   "cell_type": "code",
   "execution_count": 2,
   "id": "ffb55df3",
   "metadata": {},
   "outputs": [],
   "source": [
    "df=pd.read_csv(\"news.csv\")"
   ]
  },
  {
   "cell_type": "code",
   "execution_count": 3,
   "id": "95b3d311",
   "metadata": {},
   "outputs": [
    {
     "data": {
      "text/html": [
       "<div>\n",
       "<style scoped>\n",
       "    .dataframe tbody tr th:only-of-type {\n",
       "        vertical-align: middle;\n",
       "    }\n",
       "\n",
       "    .dataframe tbody tr th {\n",
       "        vertical-align: top;\n",
       "    }\n",
       "\n",
       "    .dataframe thead th {\n",
       "        text-align: right;\n",
       "    }\n",
       "</style>\n",
       "<table border=\"1\" class=\"dataframe\">\n",
       "  <thead>\n",
       "    <tr style=\"text-align: right;\">\n",
       "      <th></th>\n",
       "      <th>title</th>\n",
       "      <th>content</th>\n",
       "      <th>published_at</th>\n",
       "      <th>source</th>\n",
       "      <th>topic</th>\n",
       "    </tr>\n",
       "  </thead>\n",
       "  <tbody>\n",
       "    <tr>\n",
       "      <th>0</th>\n",
       "      <td>BTS: RM is reminded of Bon Voyage as he travel...</td>\n",
       "      <td>After reaching his hotel in the city, RM revea...</td>\n",
       "      <td>2022-07-30T07:00:00Z</td>\n",
       "      <td>2</td>\n",
       "      <td>13</td>\n",
       "    </tr>\n",
       "    <tr>\n",
       "      <th>1</th>\n",
       "      <td>RM recalls wondering if he 'made right decisio...</td>\n",
       "      <td>RM aka Kim Namjoon was the first member to joi...</td>\n",
       "      <td>2022-12-22T15:57:55Z</td>\n",
       "      <td>2</td>\n",
       "      <td>13</td>\n",
       "    </tr>\n",
       "    <tr>\n",
       "      <th>2</th>\n",
       "      <td>BTS: J-Hope and RM go bonkers at Billie Eilish...</td>\n",
       "      <td>Billie Eilish's concert was held in Seoul, Sou...</td>\n",
       "      <td>2022-08-16T07:00:00Z</td>\n",
       "      <td>1</td>\n",
       "      <td>7</td>\n",
       "    </tr>\n",
       "    <tr>\n",
       "      <th>3</th>\n",
       "      <td>BTS: J-Hope proudly states he raised Jungkook,...</td>\n",
       "      <td>BTS ARMY y'all would be missing the members a ...</td>\n",
       "      <td>2022-12-18T13:08:40Z</td>\n",
       "      <td>1</td>\n",
       "      <td>7</td>\n",
       "    </tr>\n",
       "    <tr>\n",
       "      <th>4</th>\n",
       "      <td>BTS: Jin aka Kim Seokjin takes us through the ...</td>\n",
       "      <td>BTS member Kim Seokjin aka Jin has the capacit...</td>\n",
       "      <td>2022-11-21T08:00:00Z</td>\n",
       "      <td>1</td>\n",
       "      <td>8</td>\n",
       "    </tr>\n",
       "  </tbody>\n",
       "</table>\n",
       "</div>"
      ],
      "text/plain": [
       "                                               title  \\\n",
       "0  BTS: RM is reminded of Bon Voyage as he travel...   \n",
       "1  RM recalls wondering if he 'made right decisio...   \n",
       "2  BTS: J-Hope and RM go bonkers at Billie Eilish...   \n",
       "3  BTS: J-Hope proudly states he raised Jungkook,...   \n",
       "4  BTS: Jin aka Kim Seokjin takes us through the ...   \n",
       "\n",
       "                                             content          published_at  \\\n",
       "0  After reaching his hotel in the city, RM revea...  2022-07-30T07:00:00Z   \n",
       "1  RM aka Kim Namjoon was the first member to joi...  2022-12-22T15:57:55Z   \n",
       "2  Billie Eilish's concert was held in Seoul, Sou...  2022-08-16T07:00:00Z   \n",
       "3  BTS ARMY y'all would be missing the members a ...  2022-12-18T13:08:40Z   \n",
       "4  BTS member Kim Seokjin aka Jin has the capacit...  2022-11-21T08:00:00Z   \n",
       "\n",
       "   source  topic  \n",
       "0       2     13  \n",
       "1       2     13  \n",
       "2       1      7  \n",
       "3       1      7  \n",
       "4       1      8  "
      ]
     },
     "execution_count": 3,
     "metadata": {},
     "output_type": "execute_result"
    }
   ],
   "source": [
    "df.head()"
   ]
  },
  {
   "cell_type": "code",
   "execution_count": 4,
   "id": "9c6cf37a",
   "metadata": {},
   "outputs": [],
   "source": [
    "df[\"content\"]=df[\"content\"]+df[\"title\"]"
   ]
  },
  {
   "cell_type": "code",
   "execution_count": 5,
   "id": "c01e134a",
   "metadata": {},
   "outputs": [],
   "source": [
    "df.drop(columns=[\"title\", \"published_at\",\"source\", \"topic\"], inplace=True)"
   ]
  },
  {
   "cell_type": "code",
   "execution_count": null,
   "id": "d73ebfb8",
   "metadata": {},
   "outputs": [],
   "source": []
  }
 ],
 "metadata": {
  "kernelspec": {
   "display_name": "Python 3 (ipykernel)",
   "language": "python",
   "name": "python3"
  },
  "language_info": {
   "codemirror_mode": {
    "name": "ipython",
    "version": 3
   },
   "file_extension": ".py",
   "mimetype": "text/x-python",
   "name": "python",
   "nbconvert_exporter": "python",
   "pygments_lexer": "ipython3",
   "version": "3.10.5"
  }
 },
 "nbformat": 4,
 "nbformat_minor": 5
}
